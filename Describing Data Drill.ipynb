{
 "cells": [
  {
   "cell_type": "markdown",
   "metadata": {},
   "source": [
    "#1 Greg was 14, Marcia was 12, Peter was 11, Jan was 10, Bobby was 8, and Cindy was 6 when they started playing the Brady kids on The Brady Bunch. Cousin Oliver was 8 years old when he joined the show. What are the mean, median, and mode of the kids' ages when they first appeared on the show? What are the variance, standard deviation, and standard error?  \n",
    "\n",
    "CALCULATIONS BY HAND:\n",
    "\n",
    "Mean:   14+12+11+10+8+6+8 = 69  \n",
    "\n",
    "        69/7 = 9.8  \n",
    "        \n",
    "        \n",
    "Median: 6,8,8,10,11,12,14  \n",
    "\n",
    "        10  \n",
    "        \n",
    "Mode:   8  \n",
    "\n",
    "Var:    (17.64 + 4.84 + 1.44 + .04 + 3.24 + 14.44 + 3.24) / 7  \n",
    "\n",
    "        6.4  \n",
    "        \n",
    "SD:     2.5  \n",
    "\n",
    "SE:     2.5/2.6  \n",
    "\n",
    "        .96  \n",
    "        \n",
    "CODE BELOW:"
   ]
  },
  {
   "cell_type": "code",
   "execution_count": 22,
   "metadata": {},
   "outputs": [
    {
     "name": "stdout",
     "output_type": "stream",
     "text": [
      "9.857142857142858\n",
      "10.0\n",
      "8\n",
      "6.408163265306122\n",
      "2.734262327610589\n",
      "1.0334540197243192\n"
     ]
    }
   ],
   "source": [
    "import numpy as np\n",
    "import statistics\n",
    "ages = [14,12,11,10,8,6,8]\n",
    "print(np.mean(ages))\n",
    "print(np.median(ages))\n",
    "print(statistics.mode(ages))\n",
    "print(np.var(ages))\n",
    "print(np.std((ages), ddof=1))\n",
    "print(std / np.sqrt(len(ages)))"
   ]
  },
  {
   "cell_type": "markdown",
   "metadata": {},
   "source": [
    "#2 Using these estimates, if you had to choose only one estimate of central tendency and one estimate of variance to describe the data, which would you pick and why?\n",
    "\n",
    "Ans: I would choose the mean as the best measure of central tendency. The data appears normally distributed, with no extreme skewing. I would choose standard deviation as the best estimate of variance, given the simplicity of the data set."
   ]
  },
  {
   "cell_type": "markdown",
   "metadata": {},
   "source": [
    "#3 Next, Cindy has a birthday. Update your estimates- what changed, and what didn't?"
   ]
  },
  {
   "cell_type": "code",
   "execution_count": 23,
   "metadata": {},
   "outputs": [
    {
     "name": "stdout",
     "output_type": "stream",
     "text": [
      "10.0\n",
      "10.0\n",
      "8\n",
      "5.428571428571429\n",
      "2.516611478423583\n",
      "1.0334540197243192\n"
     ]
    }
   ],
   "source": [
    "new_ages = [14,12,11,10,8,7,8]\n",
    "print(np.mean(new_ages))\n",
    "print(np.median(new_ages))\n",
    "print(statistics.mode(new_ages))\n",
    "print(np.var(new_ages))\n",
    "print(np.std((new_ages), ddof=1))\n",
    "print(std / np.sqrt(len(new_ages)))"
   ]
  },
  {
   "cell_type": "markdown",
   "metadata": {},
   "source": [
    "Changing Cindy's age from 6 to 7 had little overall impact on the estimates. The most notable changes are in variance (-0.98) and standard deviation (-0.22), both decreasing by less than 1."
   ]
  },
  {
   "cell_type": "markdown",
   "metadata": {},
   "source": [
    "#4 Nobody likes Cousin Oliver. Maybe the network should have used an even younger actor. Replace Cousin Oliver with 1-year-old Jessica, then recalculate again. Does this change your choice of central tendency or variance estimation methods?"
   ]
  },
  {
   "cell_type": "code",
   "execution_count": 24,
   "metadata": {},
   "outputs": [
    {
     "name": "stdout",
     "output_type": "stream",
     "text": [
      "9.0\n",
      "10.0\n",
      "No Mode\n",
      "15.428571428571429\n",
      "4.242640687119285\n",
      "1.0334540197243192\n"
     ]
    }
   ],
   "source": [
    "final_ages = [14,12,11,10,8,7,1]\n",
    "print(np.mean(final_ages))\n",
    "print(np.median(final_ages))\n",
    "print('No Mode')\n",
    "print(np.var(final_ages))\n",
    "print(np.std((final_ages), ddof=1))\n",
    "print(std / np.sqrt(len(final_ages)))"
   ]
  },
  {
   "cell_type": "markdown",
   "metadata": {},
   "source": [
    "Replacing Oliver with Jessica has a noticeable impact on our estimates, particularly variance (+10). Given that 1 is a value that is significantly lower than the rest of the values in the set, it makes since that the variance has increased. However, I wouldn't consider 1 to be an extreme outlier. Therefore, I still feel that standard deviation is a good estimate of variance. (Interestingly, the standard error has remained unchanged from our original data set.) I also believe that the mean continues to be an appropriate measure of central tendency. It has changed in response to new data, but not drastically. The mode, as seen above, is easily eliminated when none of the values in the set are repeating. For that reason, I believe it is not the best measure of central tendency. "
   ]
  },
  {
   "cell_type": "markdown",
   "metadata": {},
   "source": [
    "#5 On the 50th anniversary of The Brady Bunch, four different magazines asked their readers whether they were fans of  \n",
    "the show.  \n",
    "\n",
    "The answers were:  \n",
    "TV Guide 20% fans  \n",
    "Entertainment Weekly 23% fans  \n",
    "Pop Culture Today 17% fans  \n",
    "SciPhi Phanatic 5% fans\n",
    "\n",
    "Based on these numbers, what percentage of adult Americans would you estimate were Brady Bunch fans on the 50th anniversary of the show?"
   ]
  },
  {
   "cell_type": "markdown",
   "metadata": {},
   "source": [
    "Ans: Excluding Sci-Fi, calculate the average based on the other 3 magazines.  \n",
    "\n",
    "(Sci-Fi excluded due to it being an extreme outlier. Including it would skew data.)  \n",
    "\n",
    "20% of adult Americans (estimated) were Brady Bunch fans on the show's 50th anniversary"
   ]
  },
  {
   "cell_type": "code",
   "execution_count": 28,
   "metadata": {},
   "outputs": [
    {
     "data": {
      "text/plain": [
       "20.0"
      ]
     },
     "execution_count": 28,
     "metadata": {},
     "output_type": "execute_result"
    }
   ],
   "source": [
    "mags = [20, 23, 17]\n",
    "np.mean(mags)"
   ]
  }
 ],
 "metadata": {
  "kernelspec": {
   "display_name": "Python 3",
   "language": "python",
   "name": "python3"
  },
  "language_info": {
   "codemirror_mode": {
    "name": "ipython",
    "version": 3
   },
   "file_extension": ".py",
   "mimetype": "text/x-python",
   "name": "python",
   "nbconvert_exporter": "python",
   "pygments_lexer": "ipython3",
   "version": "3.7.2"
  }
 },
 "nbformat": 4,
 "nbformat_minor": 2
}
